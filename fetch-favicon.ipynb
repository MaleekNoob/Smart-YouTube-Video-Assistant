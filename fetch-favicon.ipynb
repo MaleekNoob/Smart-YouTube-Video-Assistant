{
 "cells": [
  {
   "cell_type": "code",
   "execution_count": 2,
   "metadata": {},
   "outputs": [],
   "source": [
    "import requests\n",
    "from bs4 import BeautifulSoup\n",
    "from urllib.parse import urljoin, urlparse"
   ]
  },
  {
   "cell_type": "code",
   "execution_count": 3,
   "metadata": {},
   "outputs": [],
   "source": [
    "def get_favicon_url(website_url):\n",
    "    try:\n",
    "        # Send a request to the website\n",
    "        response = requests.get(website_url)\n",
    "        response.raise_for_status()  # Raise an error for bad status codes\n",
    "        \n",
    "        # Parse the HTML content\n",
    "        soup = BeautifulSoup(response.text, 'html.parser')\n",
    "        \n",
    "        # Search for the favicon link tag\n",
    "        icon_link = soup.find('link', rel=lambda x: x and 'icon' in x.lower())\n",
    "        \n",
    "        if icon_link and icon_link.get('href'):\n",
    "            # Resolve the favicon URL\n",
    "            favicon_url = urljoin(website_url, icon_link['href'])\n",
    "        else:\n",
    "            # Check for the common location of favicon\n",
    "            parsed_url = urlparse(website_url)\n",
    "            favicon_url = f'{parsed_url.scheme}://{parsed_url.netloc}/favicon.ico'\n",
    "        \n",
    "        # Validate the favicon URL\n",
    "        icon_response = requests.get(favicon_url)\n",
    "        icon_response.raise_for_status()\n",
    "        \n",
    "        return favicon_url\n",
    "    \n",
    "    except requests.exceptions.RequestException as e:\n",
    "        print(f'Error fetching favicon: {e}')\n",
    "        return None"
   ]
  },
  {
   "cell_type": "code",
   "execution_count": 6,
   "metadata": {},
   "outputs": [],
   "source": [
    "# Example usage\n",
    "website_url = 'https://www.github.com/'\n",
    "favicon_url = get_favicon_url(website_url)"
   ]
  },
  {
   "cell_type": "code",
   "execution_count": null,
   "metadata": {},
   "outputs": [],
   "source": [
    "if favicon_url:\n",
    "    print(f'Favicon URL: {favicon_url}')\n",
    "else:\n",
    "    print('Favicon not found')"
   ]
  }
 ],
 "metadata": {
  "kernelspec": {
   "display_name": ".venv",
   "language": "python",
   "name": "python3"
  },
  "language_info": {
   "codemirror_mode": {
    "name": "ipython",
    "version": 3
   },
   "file_extension": ".py",
   "mimetype": "text/x-python",
   "name": "python",
   "nbconvert_exporter": "python",
   "pygments_lexer": "ipython3",
   "version": "3.12.3"
  }
 },
 "nbformat": 4,
 "nbformat_minor": 2
}
